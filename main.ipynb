{
 "cells": [
  {
   "cell_type": "code",
   "execution_count": null,
   "metadata": {},
   "outputs": [],
   "source": [
    "import pandas as pd\n",
    "import plotly.graph_objects as go"
   ]
  },
  {
   "attachments": {},
   "cell_type": "markdown",
   "metadata": {},
   "source": [
    "# Load and transform databases"
   ]
  },
  {
   "cell_type": "code",
   "execution_count": null,
   "metadata": {},
   "outputs": [],
   "source": [
    "provinces = pd.read_csv('provinces.csv')\n",
    "provinces.head()"
   ]
  },
  {
   "cell_type": "code",
   "execution_count": null,
   "metadata": {},
   "outputs": [],
   "source": [
    "common = {\n",
    "  'area': str,\n",
    "}\n",
    "question_1 = {\n",
    "  's101p121': str,\n",
    "  's101p122': str,\n",
    "  's101p123': str,\n",
    "  's101p124': str,\n",
    "  's101p125': str,\n",
    "  's101p126': str,\n",
    "}\n",
    "question_2 = {\n",
    "  's101p11': str,\n",
    "  's101p12a': str,\n",
    "  's101p12b': str,\n",
    "  's101p12c': str,\n",
    "  's101p12d': str,\n",
    "  's101p12e': str,\n",
    "}\n",
    "question_3 = {\n",
    "    's101p61': str,\n",
    "  's101p62': str,\n",
    "  's101p63': str,\n",
    "  's101p64': str,\n",
    "  's101p65': str,\n",
    "  's101p66': str,\n",
    "  's101p67': str,\n",
    "  's101p68': str,\n",
    "}\n",
    "question_4 = {\n",
    "  's101p71': str,\n",
    "  's101p72': str,\n",
    "  's101p73': str,\n",
    "  's101p74': str,\n",
    "  's101p75': str,\n",
    "  's101p76': str,\n",
    "  's101p77': str,\n",
    "}\n",
    "\n",
    "convert_dict = {**common, **question_1, **question_2, **question_3, **question_4}\n",
    "convert_dict_sm = {**common, **question_1}"
   ]
  },
  {
   "cell_type": "code",
   "execution_count": null,
   "metadata": {},
   "outputs": [],
   "source": [
    "ambiental_2018 = pd.read_csv('ambiental_2018.csv')\n",
    "ambiental_2018 = ambiental_2018.astype(convert_dict)\n",
    "ambiental_2018.info()\n",
    "ambiental_2018.head()"
   ]
  },
  {
   "cell_type": "code",
   "execution_count": null,
   "metadata": {},
   "outputs": [],
   "source": [
    "ambiental_2019 = pd.read_csv('ambiental_2019.csv')\n",
    "ambiental_2019 = ambiental_2019.astype(convert_dict)\n",
    "ambiental_2019 = ambiental_2019.replace('urbana', '1')\n",
    "ambiental_2019 = ambiental_2019.replace('rural', '2')\n",
    "ambiental_2019.info()\n",
    "ambiental_2019.head()"
   ]
  },
  {
   "cell_type": "code",
   "execution_count": null,
   "metadata": {},
   "outputs": [],
   "source": [
    "ambiental_2022_08 = pd.read_csv('ambiental_2022_08.csv')\n",
    "ambiental_2022_08 = ambiental_2022_08.astype(convert_dict)\n",
    "ambiental_2022_08.info()\n",
    "ambiental_2022_08.head()"
   ]
  },
  {
   "cell_type": "code",
   "execution_count": null,
   "metadata": {},
   "outputs": [],
   "source": [
    "ambiental_2022_10 = pd.read_csv('ambiental_2022_10.csv')\n",
    "ambiental_2022_10 = ambiental_2022_10.astype(convert_dict_sm)\n",
    "ambiental_2022_10.info()\n",
    "ambiental_2022_10.head()"
   ]
  },
  {
   "attachments": {},
   "cell_type": "markdown",
   "metadata": {},
   "source": [
    "For the next questions, 1 will be taken as Yes and 2 as No\n",
    "\n",
    "For the next questions, 1 will be taken as Urban and 2 as Rural"
   ]
  },
  {
   "cell_type": "code",
   "execution_count": null,
   "metadata": {},
   "outputs": [],
   "source": [
    "years = [2018, 2019, 2022]\n",
    "areas = ['1', '2']\n",
    "\n",
    "dbs = {\n",
    "  2018: ambiental_2018,\n",
    "  2019: ambiental_2019,\n",
    "  2022: ambiental_2022_08\n",
    "}\n",
    "\n",
    "dbs_2 = {\n",
    "  2018: ambiental_2018,\n",
    "  2019: ambiental_2019,\n",
    "  2022: ambiental_2022_10\n",
    "}"
   ]
  },
  {
   "cell_type": "markdown",
   "metadata": {},
   "source": [
    "# Environmental Problems"
   ]
  },
  {
   "attachments": {},
   "cell_type": "markdown",
   "metadata": {},
   "source": [
    "### Household yearly count related to the 7 environmental problems\n",
    "\n",
    "s101p121: Publicidad, carteles, cables, antenas, postes\n",
    "\n",
    "s101p122: Agua contaminada\n",
    "\n",
    "s101p123: Ruidos excesivos\n",
    "\n",
    "s101p124: Acumulación de Basura\n",
    "\n",
    "s101p125: Contaminación del aire\n",
    "\n",
    "s101p126: Presencia de animales callejeros\n",
    "\n",
    "s101p127: Excretas de animales en espacios públicos"
   ]
  },
  {
   "cell_type": "code",
   "execution_count": null,
   "metadata": {},
   "outputs": [],
   "source": [
    "envs_cols = ['s101p121', 's101p122', 's101p123', 's101p124', 's101p125', 's101p126']"
   ]
  },
  {
   "cell_type": "code",
   "execution_count": null,
   "metadata": {},
   "outputs": [],
   "source": [
    "res = []\n",
    "\n",
    "for year in years:\n",
    "  db = dbs_2[year]\n",
    "  db = db.loc[(db['s101p121'] == '1') | (db['s101p122'] == '1') | (db['s101p123'] == '1') | (db['s101p124'] == '1') | (db['s101p125'] == '1') | (db['s101p126'] == '1')]\n",
    "  res.append(db['fexp4'].sum().round(0))\n",
    "\n",
    "res = pd.DataFrame({'years':years, 'households':res})\n",
    "ax = res.plot.bar(x='years', y='households', rot=0, ylabel='Number of households', xlabel='Years')\n",
    "for container in ax.containers:\n",
    "  ax.bar_label(container, fmt='{:,.0f}')\n",
    "res"
   ]
  },
  {
   "cell_type": "code",
   "execution_count": null,
   "metadata": {},
   "outputs": [],
   "source": [
    "res = []\n",
    "\n",
    "for year in years:\n",
    "  db = dbs_2[year]\n",
    "  for area in areas:\n",
    "    db1 = db.loc[((db['s101p121'] == '1') | (db['s101p122'] == '1') | (db['s101p123'] == '1') | (db['s101p124'] == '1') | (db['s101p125'] == '1') | (db['s101p126'] == '1')) & (db['area'] == area)]\n",
    "    res.append(db1['fexp4'].sum().round(0))\n",
    "\n",
    "res = pd.DataFrame({'Urban': res[::2], 'Rural': res[1::2]}, index=years)\n",
    "ax = res.plot.bar(rot=0, ylabel='Number of households', xlabel='Year')\n",
    "for container in ax.containers:\n",
    "  ax.bar_label(container, fmt='{:,.0f}')\n",
    "res"
   ]
  },
  {
   "cell_type": "code",
   "execution_count": null,
   "metadata": {},
   "outputs": [],
   "source": [
    "res = {\n",
    "  2018: [],\n",
    "  2019: [],\n",
    "  2022: []\n",
    "}\n",
    "res_per = {\n",
    "  2018: 0,\n",
    "  2019: 0,\n",
    "  2022: 0\n",
    "}\n",
    "\n",
    "for year in years:\n",
    "  db = dbs_2[year]\n",
    "  tmp = []\n",
    "  sum = 0\n",
    "  for col in envs_cols:\n",
    "    db1 = db[db[col] == '1']\n",
    "    val = db1['fexp4'].sum().round(0)\n",
    "    tmp.append(val)\n",
    "    sum += val\n",
    "\n",
    "  res[year] = tmp\n",
    "  res_per[year] = sum\n",
    "\n",
    "for year in res:\n",
    "  res[year] = list(map(lambda a: round(a/res_per[year]*100), res[year]))\n",
    "\n",
    "res = pd.DataFrame(res, index=['Visual\\npollution', 'Contaminated\\nwater', 'Hearing\\npollution', 'Accumulated\\ngarbage', 'Air\\npollution', 'Stray\\nanimals'])\n",
    "ax = res.plot.bar(rot=0)\n",
    "for container in ax.containers:\n",
    "  ax.bar_label(container, fmt='{:,.0f}%', fontsize=8)\n",
    "res"
   ]
  },
  {
   "cell_type": "code",
   "execution_count": null,
   "metadata": {},
   "outputs": [],
   "source": [
    "fig = go.Figure()\n",
    "\n",
    "for year in res:\n",
    "  fig.add_trace(go.Scatterpolar(\n",
    "    r=res[year],\n",
    "    theta=['Visual pollution', 'Contaminated water', 'Hearing pollution', 'Accumulated garbage', 'Air pollution', 'Stray animals'],\n",
    "    fill='toself',\n",
    "    name=year\n",
    "  ))\n",
    "\n",
    "fig.show()"
   ]
  },
  {
   "attachments": {},
   "cell_type": "markdown",
   "metadata": {},
   "source": [
    "# Waste Sorting"
   ]
  },
  {
   "attachments": {},
   "cell_type": "markdown",
   "metadata": {},
   "source": [
    "### Household yearly count related to waist types\n",
    "\n",
    "s101p11: Orgánicos\n",
    "\n",
    "s101p12a: Inorgánicos: A - Papel, cartón\n",
    "\n",
    "s101p12b: Inorgánicos: B - Plástico\n",
    "\n",
    "s101p12c: Inorgánicos: C - Vidrio\n",
    "\n",
    "s101p12d: Inorgánicos: D - Metal\n",
    "\n",
    "s101p12e: Inorgánicos: E - Tetrapak\n"
   ]
  },
  {
   "cell_type": "code",
   "execution_count": null,
   "metadata": {},
   "outputs": [],
   "source": [
    "waste_cols = ['s101p11', 's101p12a', 's101p12b', 's101p12c', 's101p12d', 's101p12e']"
   ]
  },
  {
   "cell_type": "code",
   "execution_count": null,
   "metadata": {},
   "outputs": [],
   "source": [
    "res = []\n",
    "\n",
    "for year in years:\n",
    "  db = dbs[year]\n",
    "  db = db.loc[(db['s101p11'] == '1') | (db['s101p12a'] == '1') | (db['s101p12b'] == '1') | (db['s101p12c'] == '1') | (db['s101p12d'] == '1') | (db['s101p12e'] == '1')]\n",
    "  res.append(db['fexp4'].sum().round(0))\n",
    "\n",
    "res = pd.DataFrame({'years':years, 'households':res})\n",
    "ax = res.plot.bar(x='years', y='households', rot=0, ylabel='Number of households', xlabel='Years')\n",
    "for container in ax.containers:\n",
    "  ax.bar_label(container, fmt='{:,.0f}')\n",
    "res"
   ]
  },
  {
   "cell_type": "code",
   "execution_count": null,
   "metadata": {},
   "outputs": [],
   "source": [
    "res = []\n",
    "\n",
    "for year in years:\n",
    "  db = dbs[year]\n",
    "  tmp = []\n",
    "  for area in areas:\n",
    "    db1 = db.loc[((db['s101p11'] == '1') | (db['s101p12a'] == '1') | (db['s101p12b'] == '1') | (db['s101p12c'] == '1') | (db['s101p12d'] == '1') | (db['s101p12e'] == '1')) & (db['area'] == area)]\n",
    "    res.append(db1['fexp4'].sum().round(0))\n",
    "\n",
    "res = pd.DataFrame({'Urban': res[::2], 'Rural': res[1::2]}, index=years)\n",
    "ax = res.plot.bar(rot=0, ylabel='Number of households', xlabel='Year')\n",
    "for container in ax.containers:\n",
    "  ax.bar_label(container, fmt='{:,.0f}')\n",
    "res"
   ]
  },
  {
   "cell_type": "code",
   "execution_count": null,
   "metadata": {},
   "outputs": [],
   "source": [
    "res = {\n",
    "  2018: [],\n",
    "  2019: [],\n",
    "  2022: []\n",
    "}\n",
    "res_per = {\n",
    "  2018: 0,\n",
    "  2019: 0,\n",
    "  2022: 0\n",
    "}\n",
    "\n",
    "for year in years:\n",
    "  db = dbs[year]\n",
    "  tmp = []\n",
    "  sum = 0\n",
    "  for col in waste_cols:\n",
    "    db1 = db.loc[db[col] == '1']\n",
    "    val = db1['fexp4'].sum().round(0)\n",
    "    tmp.append(val)\n",
    "    sum += val\n",
    "\n",
    "  res[year] = tmp\n",
    "  res_per[year] = sum\n",
    "\n",
    "for year in res:\n",
    "  res[year] = list(map(lambda a: round(a/res_per[year]*100), res[year]))\n",
    "\n",
    "res = pd.DataFrame(res, index=['Organic', 'Inorganic\\nA', 'Inorganic\\nB', 'Inorganic\\nC', 'Inorganic\\nD', 'Inorganic\\nE'])\n",
    "ax = res.plot.bar(rot=0)\n",
    "for container in ax.containers:\n",
    "  ax.bar_label(container, fmt='{:,.0f}%', fontsize=8)\n",
    "res"
   ]
  },
  {
   "cell_type": "code",
   "execution_count": null,
   "metadata": {},
   "outputs": [],
   "source": [
    "fig = go.Figure()\n",
    "\n",
    "for year in res:\n",
    "  fig.add_trace(go.Scatterpolar(\n",
    "    r=res[year],\n",
    "    theta=['Organic', 'Inorganic A', 'Inorganic B', 'Inorganic C', 'Inorganic D', 'Inorganic E'],\n",
    "    fill='toself',\n",
    "    name=year\n",
    "  ))\n",
    "\n",
    "fig.show()"
   ]
  },
  {
   "attachments": {},
   "cell_type": "markdown",
   "metadata": {},
   "source": [
    "# Water saving practice"
   ]
  },
  {
   "attachments": {},
   "cell_type": "markdown",
   "metadata": {},
   "source": [
    "### Household yearly count related to Water saving practice\n",
    "\n",
    "s101p61: ¿Reusan el agua (para regar, fregar, tirar al baño)?\n",
    "\n",
    "s101p62: ¿Utiliza balde en lugar de manguera para ciertas actividades?\n",
    "\n",
    "s101p63: ¿Cierran las llaves mientras jabonan los platos, se bañan, se cepillan los dientes, etc.?\n",
    "\n",
    "s101p64: ¿Se duchan en menos de 10 minutos?\n",
    "\n",
    "s101p65: ¿Revisan regularmente las tuberías?\n",
    "\n",
    "s101p66: ¿Disponen de economizadores de chorro (reductores de flujo del agua)?\n",
    "\n",
    "s101p67: ¿Disponen de inodoro doble descarga?\n",
    "\n",
    "s101p68: ¿Colocan una botella de agua u otro objeto dentro del tanque del inodoro?\n"
   ]
  },
  {
   "cell_type": "code",
   "execution_count": null,
   "metadata": {},
   "outputs": [],
   "source": [
    "water_cols = ['s101p61', 's101p62', 's101p63', 's101p64', 's101p65', 's101p66', 's101p67', 's101p68']"
   ]
  },
  {
   "cell_type": "code",
   "execution_count": null,
   "metadata": {},
   "outputs": [],
   "source": [
    "res = []\n",
    "\n",
    "for year in years:\n",
    "  db = dbs[year]\n",
    "  db = db.loc[(db['s101p61'] == '1') | (db['s101p62'] == '1') | (db['s101p63'] == '1') | (db['s101p64'] == '1') | (db['s101p65'] == '1') | (db['s101p66'] == '1') | (db['s101p67'] == '1') | (db['s101p68'] == '1')]\n",
    "  res.append(db['fexp4'].sum().round(0))\n",
    "\n",
    "res = pd.DataFrame({'years':years, 'households':res})\n",
    "ax = res.plot.bar(x='years', y='households', rot=0, ylabel='Number of households', xlabel='Years')\n",
    "for container in ax.containers:\n",
    "  ax.bar_label(container, fmt='{:,.0f}')\n",
    "res"
   ]
  },
  {
   "cell_type": "code",
   "execution_count": null,
   "metadata": {},
   "outputs": [],
   "source": [
    "res = []\n",
    "\n",
    "for year in years:\n",
    "  db = dbs[year]\n",
    "  tmp = []\n",
    "  for area in areas:\n",
    "    db1 = db.loc[((db['s101p61'] == '1') | (db['s101p62'] == '1') | (db['s101p63'] == '1') | (db['s101p64'] == '1') | (db['s101p65'] == '1') | (db['s101p66'] == '1') | (db['s101p67'] == '1') | (db['s101p68'] == '1')) & (db['area'] == area)]\n",
    "    res.append(db1['fexp4'].sum().round(0))\n",
    "\n",
    "res = pd.DataFrame({'Urban': res[::2], 'Rural': res[1::2]}, index=years)\n",
    "ax = res.plot.bar(rot=0, ylabel='Number of households', xlabel='Year')\n",
    "for container in ax.containers:\n",
    "  ax.bar_label(container, fmt='{:,.0f}')\n",
    "res"
   ]
  },
  {
   "cell_type": "code",
   "execution_count": null,
   "metadata": {},
   "outputs": [],
   "source": [
    "res = {\n",
    "  2018: [],\n",
    "  2019: [],\n",
    "  2022: []\n",
    "}\n",
    "res_per = {\n",
    "  2018: 0,\n",
    "  2019: 0,\n",
    "  2022: 0\n",
    "}\n",
    "\n",
    "for year in years:\n",
    "  db = dbs[year]\n",
    "  tmp = []\n",
    "  sum = 0\n",
    "  for col in water_cols:\n",
    "    db1 = db.loc[db[col] == '1']\n",
    "    val = db1['fexp4'].sum().round(0)\n",
    "    tmp.append(val)\n",
    "    sum += val\n",
    "\n",
    "  res[year] = tmp\n",
    "  res_per[year] = sum\n",
    "\n",
    "\n",
    "for year in res:\n",
    "  res[year] = list(map(lambda a: round(a/res_per[year]*100), res[year]))\n",
    "\n",
    "res = pd.DataFrame(res, index=[\n",
    "  'Reuse\\nthe\\nwater',\n",
    "  'Use\\nbucket\\ninstead\\nof hos',\n",
    "  'Close\\nthe\\ntaps',\n",
    "  'Shower\\nin <10\\nminutes',\n",
    "  'Check\\nthe\\npipes',\n",
    "  'Use of\\neconomizers',\n",
    "  'Double\\nflush\\ntoilet',\n",
    "  'Bottle\\nin\\ntoilet',\n",
    "  ])\n",
    "ax = res.plot.bar(rot=0)\n",
    "for container in ax.containers:\n",
    "  ax.bar_label(container, fmt='{:,.0f}%', fontsize=8)\n",
    "res"
   ]
  },
  {
   "cell_type": "code",
   "execution_count": null,
   "metadata": {},
   "outputs": [],
   "source": [
    "index = ['Reuse the water', 'Use bucket instead of hos', 'Close the taps', 'Shower in <10 minutes', 'Check the pipes', 'Use of economizers', 'Double flush toilet', 'Bottle in toilet']\n",
    "\n",
    "fig = go.Figure()\n",
    "\n",
    "for year in res:\n",
    "  fig.add_trace(go.Scatterpolar(\n",
    "    r=res[year],\n",
    "    theta=index,\n",
    "    fill='toself',\n",
    "    name=year\n",
    "  ))\n",
    "\n",
    "fig.show()"
   ]
  },
  {
   "attachments": {},
   "cell_type": "markdown",
   "metadata": {},
   "source": [
    "# Energy saving practice"
   ]
  },
  {
   "attachments": {},
   "cell_type": "markdown",
   "metadata": {},
   "source": [
    "### Household yearly count related to Energy saving practice\n",
    "\n",
    "s101p71: ¿Desconectan los aparatos electrónicos y electrodomésticos cuando no los usan?\n",
    "\n",
    "s101p72: ¿Apagan los focos al salir de una habitación?\n",
    "\n",
    "s101p73: ¿Introducen los alimentos calientes en el refrigerador?\n",
    "\n",
    "s101p74: ¿Planchan la mayor cantidad de ropa posible en una sola vez?\n",
    "\n",
    "s101p75: ¿Abren las cortinas y persianas para aprovechar la luz del sol?\n",
    "\n",
    "s101p76: ¿Dispone de aparatos electrodomésticos ahorradores de energía (Refrigerador, lavadora, secadora)?\n",
    "\n",
    "s101p77: ¿Dispone de paneles solares?\n"
   ]
  },
  {
   "cell_type": "code",
   "execution_count": null,
   "metadata": {},
   "outputs": [],
   "source": [
    "energy_cols = ['s101p71', 's101p72', 's101p73', 's101p74', 's101p75', 's101p76', 's101p77']"
   ]
  },
  {
   "cell_type": "code",
   "execution_count": null,
   "metadata": {},
   "outputs": [],
   "source": [
    "res = []\n",
    "\n",
    "for year in years:\n",
    "  db = dbs[year]\n",
    "  db = db.loc[(db['s101p71'] == '1') | (db['s101p72'] == '1') | (db['s101p73'] == '1') | (db['s101p74'] == '1') | (db['s101p75'] == '1') | (db['s101p76'] == '1') | (db['s101p77'] == '1')]\n",
    "  res.append(db['fexp4'].sum().round(0))\n",
    "\n",
    "res = pd.DataFrame({'years':years, 'households':res})\n",
    "ax = res.plot.bar(x='years', y='households', rot=0, ylabel='Number of households', xlabel='Years')\n",
    "for container in ax.containers:\n",
    "  ax.bar_label(container, fmt='{:,.0f}')\n",
    "res"
   ]
  },
  {
   "cell_type": "code",
   "execution_count": null,
   "metadata": {},
   "outputs": [],
   "source": [
    "res = []\n",
    "\n",
    "for year in years:\n",
    "  db = dbs[year]\n",
    "  tmp = []\n",
    "  for area in areas:\n",
    "    db1 = db.loc[((db['s101p71'] == '1') | (db['s101p72'] == '1') | (db['s101p73'] == '1') | (db['s101p74'] == '1') | (db['s101p75'] == '1') | (db['s101p76'] == '1') | (db['s101p77'] == '1')) & (db['area'] == area)]\n",
    "    res.append(db1['fexp4'].sum().round(0))\n",
    "\n",
    "res = pd.DataFrame({'Urban': res[::2], 'Rural': res[1::2]}, index=years)\n",
    "ax = res.plot.bar(rot=0, ylabel='Number of households', xlabel='Year')\n",
    "for container in ax.containers:\n",
    "  ax.bar_label(container, fmt='{:,.0f}')\n",
    "res"
   ]
  },
  {
   "cell_type": "code",
   "execution_count": null,
   "metadata": {},
   "outputs": [],
   "source": [
    "res = {\n",
    "  2018: [],\n",
    "  2019: [],\n",
    "  2022: []\n",
    "}\n",
    "res_per = {\n",
    "  2018: 0,\n",
    "  2019: 0,\n",
    "  2022: 0\n",
    "}\n",
    "  \n",
    "\n",
    "for year in years:\n",
    "  db = dbs[year]\n",
    "  tmp = []\n",
    "  sum = 0\n",
    "  for col in energy_cols:\n",
    "    db1 = db.loc[db[col] == '1']\n",
    "    val = db1['fexp4'].sum().round(0)\n",
    "    tmp.append(val)\n",
    "    sum += val\n",
    "\n",
    "  res[year] = tmp\n",
    "  res_per[year] = sum\n",
    "\n",
    "for year in res:\n",
    "  res[year] = list(map(lambda a: round(a/res_per[year]*100), res[year]))\n",
    "\n",
    "res = pd.DataFrame(res, index=['Q1', 'Q2', 'Q3', 'Q4', 'Q5', 'Q6', 'Q7'])\n",
    "ax = res.plot.bar(rot=0)\n",
    "for container in ax.containers:\n",
    "  ax.bar_label(container, fmt='{:,.0f}%', fontsize=8)\n",
    "res"
   ]
  },
  {
   "cell_type": "code",
   "execution_count": null,
   "metadata": {},
   "outputs": [],
   "source": [
    "fig = go.Figure()\n",
    "\n",
    "for year in res:\n",
    "  fig.add_trace(go.Scatterpolar(\n",
    "    r=res[year],\n",
    "    theta=['Disconnect electronic not used devices', 'Turn off room lights', 'Put food in the refrigerator', 'Iron as many clothes as possible in one time', 'Open the curtains for sunlight', 'Have energy-saving household appliances ', 'Have solar panels?'],\n",
    "    fill='toself',\n",
    "    name=year\n",
    "  ))\n",
    "\n",
    "fig.show()"
   ]
  }
 ],
 "metadata": {
  "kernelspec": {
   "display_name": "Python 3",
   "language": "python",
   "name": "python3"
  },
  "language_info": {
   "codemirror_mode": {
    "name": "ipython",
    "version": 3
   },
   "file_extension": ".py",
   "mimetype": "text/x-python",
   "name": "python",
   "nbconvert_exporter": "python",
   "pygments_lexer": "ipython3",
   "version": "3.10.8"
  },
  "orig_nbformat": 4
 },
 "nbformat": 4,
 "nbformat_minor": 2
}
